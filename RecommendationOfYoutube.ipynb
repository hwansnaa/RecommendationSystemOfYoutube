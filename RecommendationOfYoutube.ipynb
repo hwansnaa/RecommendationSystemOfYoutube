{
 "cells": [
  {
   "cell_type": "code",
   "execution_count": 1,
   "metadata": {
    "_cell_guid": "b1076dfc-b9ad-4769-8c92-a6c4dae69d19",
    "_uuid": "8f2839f25d086af736a60e9eeb907d3b93b6e0e5"
   },
   "outputs": [],
   "source": [
    "import numpy as np # linear algebra\n",
    "import pandas as pd # data processing, CSV file I/O (e.g. pd.read_csv)"
   ]
  },
  {
   "cell_type": "code",
   "execution_count": 18,
   "metadata": {
    "_cell_guid": "79c7e3d0-c299-4dcb-8224-4455121ee9b0",
    "_uuid": "d629ff2d2480ee46fbb7e2d37f6b5fab8052498a"
   },
   "outputs": [],
   "source": [
    "df = pd.read_csv('./input/KRvideos.csv', engine='python') "
   ]
  },
  {
   "cell_type": "code",
   "execution_count": 19,
   "metadata": {},
   "outputs": [
    {
     "data": {
      "text/html": [
       "<div>\n",
       "<style scoped>\n",
       "    .dataframe tbody tr th:only-of-type {\n",
       "        vertical-align: middle;\n",
       "    }\n",
       "\n",
       "    .dataframe tbody tr th {\n",
       "        vertical-align: top;\n",
       "    }\n",
       "\n",
       "    .dataframe thead th {\n",
       "        text-align: right;\n",
       "    }\n",
       "</style>\n",
       "<table border=\"1\" class=\"dataframe\">\n",
       "  <thead>\n",
       "    <tr style=\"text-align: right;\">\n",
       "      <th></th>\n",
       "      <th>video_id</th>\n",
       "      <th>trending_date</th>\n",
       "      <th>title</th>\n",
       "      <th>channel_title</th>\n",
       "      <th>category_id</th>\n",
       "      <th>publish_time</th>\n",
       "      <th>tags</th>\n",
       "      <th>views</th>\n",
       "      <th>likes</th>\n",
       "      <th>dislikes</th>\n",
       "      <th>comment_count</th>\n",
       "      <th>thumbnail_link</th>\n",
       "      <th>comments_disabled</th>\n",
       "      <th>ratings_disabled</th>\n",
       "      <th>video_error_or_removed</th>\n",
       "      <th>description</th>\n",
       "    </tr>\n",
       "  </thead>\n",
       "  <tbody>\n",
       "    <tr>\n",
       "      <td>0</td>\n",
       "      <td>RxGQe4EeEpA</td>\n",
       "      <td>17.14.11</td>\n",
       "      <td>좋아 by 민서_윤종신_좋니 답가</td>\n",
       "      <td>라푸마코리아</td>\n",
       "      <td>22.0</td>\n",
       "      <td>2017-11-13 16:07</td>\n",
       "      <td>라푸마|\"윤종신\"|\"좋니\"|\"좋아\"|\"샬레\"|\"민서\"</td>\n",
       "      <td>156130.0</td>\n",
       "      <td>1422.0</td>\n",
       "      <td>40.0</td>\n",
       "      <td>272.0</td>\n",
       "      <td>https://i.ytimg.com/vi/RxGQe4EeEpA/default.jpg</td>\n",
       "      <td>False</td>\n",
       "      <td>False</td>\n",
       "      <td>False</td>\n",
       "      <td>윤종신 '좋니'의 답가 '좋아' 최초 공개!\\n그 여자의 이야기를 지금 만나보세요....</td>\n",
       "    </tr>\n",
       "    <tr>\n",
       "      <td>1</td>\n",
       "      <td>hH7wVE8OlQ0</td>\n",
       "      <td>17.14.11</td>\n",
       "      <td>JSA 귀순 북한군 총격 부상</td>\n",
       "      <td>Edward</td>\n",
       "      <td>25.0</td>\n",
       "      <td>2017-11-13 19:59</td>\n",
       "      <td>JSA|\"귀순\"|\"북한군\"|\"총격\"|\"부상\"|\"JSA 귀순 북한군 총격 부상\"</td>\n",
       "      <td>76533.0</td>\n",
       "      <td>211.0</td>\n",
       "      <td>28.0</td>\n",
       "      <td>113.0</td>\n",
       "      <td>https://i.ytimg.com/vi/hH7wVE8OlQ0/default.jpg</td>\n",
       "      <td>False</td>\n",
       "      <td>False</td>\n",
       "      <td>False</td>\n",
       "      <td>[채널A단독]北 병사 현재 '의식불명'… 혈압 떨어지는 중 \\n[채널A단독]우리측 ...</td>\n",
       "    </tr>\n",
       "    <tr>\n",
       "      <td>2</td>\n",
       "      <td>9V8bnWUmE9U</td>\n",
       "      <td>17.14.11</td>\n",
       "      <td>나몰라패밀리 운동화 영상 2탄 (빼빼로데이버젼)</td>\n",
       "      <td>나몰라패밀리 핫쇼</td>\n",
       "      <td>22.0</td>\n",
       "      <td>2017-11-11 16:16</td>\n",
       "      <td>아디다스|\"빼빼로\"|\"핫쇼\"|\"나몰라패밀리\"|\"대학로\"|\"공연\"</td>\n",
       "      <td>421409.0</td>\n",
       "      <td>5112.0</td>\n",
       "      <td>166.0</td>\n",
       "      <td>459.0</td>\n",
       "      <td>https://i.ytimg.com/vi/9V8bnWUmE9U/default.jpg</td>\n",
       "      <td>False</td>\n",
       "      <td>False</td>\n",
       "      <td>False</td>\n",
       "      <td>퍼가실때 꼭 출처 부탁드려요</td>\n",
       "    </tr>\n",
       "    <tr>\n",
       "      <td>3</td>\n",
       "      <td>0_8py-t5R80</td>\n",
       "      <td>17.14.11</td>\n",
       "      <td>???????? 출국 현장, 놓치면 안되는 장면</td>\n",
       "      <td>미디어몽구</td>\n",
       "      <td>25.0</td>\n",
       "      <td>2017-11-12 20:19</td>\n",
       "      <td>이명박|\"이명박 출국금지\"|\"이명박 출국현장\"|\"이명박 바레인\"|\"이명박 대통령\"|...</td>\n",
       "      <td>222850.0</td>\n",
       "      <td>2093.0</td>\n",
       "      <td>173.0</td>\n",
       "      <td>1219.0</td>\n",
       "      <td>https://i.ytimg.com/vi/0_8py-t5R80/default.jpg</td>\n",
       "      <td>False</td>\n",
       "      <td>False</td>\n",
       "      <td>False</td>\n",
       "      <td>다스는 누구겁니까 듣고 난 후 표정</td>\n",
       "    </tr>\n",
       "    <tr>\n",
       "      <td>4</td>\n",
       "      <td>bk55RbxiQdI</td>\n",
       "      <td>17.14.11</td>\n",
       "      <td>김장겸은 물러갔다 MBC 노조 환호와 눈물</td>\n",
       "      <td>NocutV</td>\n",
       "      <td>25.0</td>\n",
       "      <td>2017-11-13 20:08</td>\n",
       "      <td>nocutV|\"노컷V\"|\"CBS\"|\"mbc\"|\"김장겸\"|\"해임\"|\"허일후\"</td>\n",
       "      <td>84466.0</td>\n",
       "      <td>1094.0</td>\n",
       "      <td>109.0</td>\n",
       "      <td>450.0</td>\n",
       "      <td>https://i.ytimg.com/vi/bk55RbxiQdI/default.jpg</td>\n",
       "      <td>False</td>\n",
       "      <td>False</td>\n",
       "      <td>False</td>\n",
       "      <td>김장겸 MBC 사장이 결국 해임됐다.\\n\\nMBC 대주주인 방송문화진흥회는 13일 ...</td>\n",
       "    </tr>\n",
       "  </tbody>\n",
       "</table>\n",
       "</div>"
      ],
      "text/plain": [
       "      video_id trending_date                       title channel_title  \\\n",
       "0  RxGQe4EeEpA      17.14.11          좋아 by 민서_윤종신_좋니 답가        라푸마코리아   \n",
       "1  hH7wVE8OlQ0      17.14.11            JSA 귀순 북한군 총격 부상        Edward   \n",
       "2  9V8bnWUmE9U      17.14.11  나몰라패밀리 운동화 영상 2탄 (빼빼로데이버젼)     나몰라패밀리 핫쇼   \n",
       "3  0_8py-t5R80      17.14.11  ???????? 출국 현장, 놓치면 안되는 장면         미디어몽구   \n",
       "4  bk55RbxiQdI      17.14.11     김장겸은 물러갔다 MBC 노조 환호와 눈물        NocutV   \n",
       "\n",
       "   category_id      publish_time  \\\n",
       "0         22.0  2017-11-13 16:07   \n",
       "1         25.0  2017-11-13 19:59   \n",
       "2         22.0  2017-11-11 16:16   \n",
       "3         25.0  2017-11-12 20:19   \n",
       "4         25.0  2017-11-13 20:08   \n",
       "\n",
       "                                                tags     views   likes  \\\n",
       "0                      라푸마|\"윤종신\"|\"좋니\"|\"좋아\"|\"샬레\"|\"민서\"  156130.0  1422.0   \n",
       "1        JSA|\"귀순\"|\"북한군\"|\"총격\"|\"부상\"|\"JSA 귀순 북한군 총격 부상\"   76533.0   211.0   \n",
       "2                아디다스|\"빼빼로\"|\"핫쇼\"|\"나몰라패밀리\"|\"대학로\"|\"공연\"  421409.0  5112.0   \n",
       "3  이명박|\"이명박 출국금지\"|\"이명박 출국현장\"|\"이명박 바레인\"|\"이명박 대통령\"|...  222850.0  2093.0   \n",
       "4          nocutV|\"노컷V\"|\"CBS\"|\"mbc\"|\"김장겸\"|\"해임\"|\"허일후\"   84466.0  1094.0   \n",
       "\n",
       "   dislikes  comment_count                                  thumbnail_link  \\\n",
       "0      40.0          272.0  https://i.ytimg.com/vi/RxGQe4EeEpA/default.jpg   \n",
       "1      28.0          113.0  https://i.ytimg.com/vi/hH7wVE8OlQ0/default.jpg   \n",
       "2     166.0          459.0  https://i.ytimg.com/vi/9V8bnWUmE9U/default.jpg   \n",
       "3     173.0         1219.0  https://i.ytimg.com/vi/0_8py-t5R80/default.jpg   \n",
       "4     109.0          450.0  https://i.ytimg.com/vi/bk55RbxiQdI/default.jpg   \n",
       "\n",
       "  comments_disabled ratings_disabled video_error_or_removed  \\\n",
       "0             False            False                  False   \n",
       "1             False            False                  False   \n",
       "2             False            False                  False   \n",
       "3             False            False                  False   \n",
       "4             False            False                  False   \n",
       "\n",
       "                                         description  \n",
       "0  윤종신 '좋니'의 답가 '좋아' 최초 공개!\\n그 여자의 이야기를 지금 만나보세요....  \n",
       "1  [채널A단독]北 병사 현재 '의식불명'… 혈압 떨어지는 중 \\n[채널A단독]우리측 ...  \n",
       "2                                    퍼가실때 꼭 출처 부탁드려요  \n",
       "3                                다스는 누구겁니까 듣고 난 후 표정  \n",
       "4  김장겸 MBC 사장이 결국 해임됐다.\\n\\nMBC 대주주인 방송문화진흥회는 13일 ...  "
      ]
     },
     "execution_count": 19,
     "metadata": {},
     "output_type": "execute_result"
    }
   ],
   "source": [
    "# 상위 5개의 행만 보기\n",
    "df.head()"
   ]
  },
  {
   "cell_type": "code",
   "execution_count": 20,
   "metadata": {},
   "outputs": [
    {
     "data": {
      "text/plain": [
       "(36897, 16)"
      ]
     },
     "execution_count": 20,
     "metadata": {},
     "output_type": "execute_result"
    }
   ],
   "source": [
    "df.shape # DaraFrame shape 확인"
   ]
  },
  {
   "cell_type": "code",
   "execution_count": 21,
   "metadata": {},
   "outputs": [
    {
     "data": {
      "text/plain": [
       "Index(['video_id', 'trending_date', 'title', 'channel_title', 'category_id',\n",
       "       'publish_time', 'tags', 'views', 'likes', 'dislikes', 'comment_count',\n",
       "       'thumbnail_link', 'comments_disabled', 'ratings_disabled',\n",
       "       'video_error_or_removed', 'description'],\n",
       "      dtype='object')"
      ]
     },
     "execution_count": 21,
     "metadata": {},
     "output_type": "execute_result"
    }
   ],
   "source": [
    "df.columns # DataFrame Attribute 확인"
   ]
  },
  {
   "cell_type": "code",
   "execution_count": 22,
   "metadata": {},
   "outputs": [
    {
     "name": "stdout",
     "output_type": "stream",
     "text": [
      "제거 전 중복 Sample 수 : 20562\n",
      "제거 후 중복 Sample 수 : 0\n"
     ]
    }
   ],
   "source": [
    "# 중복 video_id sample 제거\n",
    "print('제거 전 중복 Sample 수 : {}'.format(df.duplicated(['video_id']).sum()))\n",
    "df.drop_duplicates(['video_id'], keep = 'first', inplace = True)\n",
    "print('제거 후 중복 Sample 수 : {}'.format(df.duplicated(['video_id']).sum()))"
   ]
  },
  {
   "cell_type": "code",
   "execution_count": 45,
   "metadata": {},
   "outputs": [
    {
     "name": "stdout",
     "output_type": "stream",
     "text": [
      "2061\n"
     ]
    }
   ],
   "source": []
  },
  {
   "cell_type": "code",
   "execution_count": 26,
   "metadata": {},
   "outputs": [
    {
     "name": "stdout",
     "output_type": "stream",
     "text": [
      "desription Attribute가 null인 Sample 수 : 2061\n",
      "null값 ''로 mapping시킨 후 : 0\n"
     ]
    }
   ],
   "source": [
    "print('desription Attribute가 null인 Sample 수 : {}'.format(df['description'].isnull().sum()))\n",
    "df['description'] = df['description'].fillna('')\n",
    "print('null값 \\'\\'로 mapping시킨 후 : {}'.format(df['description'].isnull().sum()))"
   ]
  },
  {
   "cell_type": "code",
   "execution_count": 27,
   "metadata": {},
   "outputs": [],
   "source": [
    "# tf-idf matrix 만들기\n",
    "from sklearn.feature_extraction.text import TfidfVectorizer\n",
    "tfidf = TfidfVectorizer()\n",
    "tfidf_matrix = tfidf.fit_transform(df['description'])"
   ]
  },
  {
   "cell_type": "code",
   "execution_count": 48,
   "metadata": {},
   "outputs": [
    {
     "name": "stdout",
     "output_type": "stream",
     "text": [
      "(16335, 141131)\n"
     ]
    }
   ],
   "source": [
    "print(tfidf_matrix.shape) # tf-idf matrix 크기"
   ]
  },
  {
   "cell_type": "code",
   "execution_count": 32,
   "metadata": {},
   "outputs": [
    {
     "name": "stdout",
     "output_type": "stream",
     "text": [
      "16335개의 description 문장을 만드는 데 사용한 141131개의 단어\n"
     ]
    }
   ],
   "source": [
    "print('{0}개의 description 문장을 만드는 데 사용한 {1}개의 단어'.format(tfidf_matrix.shape[0], tfidf_matrix.shape[1]))"
   ]
  },
  {
   "cell_type": "code",
   "execution_count": 33,
   "metadata": {},
   "outputs": [
    {
     "name": "stdout",
     "output_type": "stream",
     "text": [
      "video_id\n",
      "RxGQe4EeEpA    0\n",
      "hH7wVE8OlQ0    1\n",
      "9V8bnWUmE9U    2\n",
      "0_8py-t5R80    3\n",
      "bk55RbxiQdI    4\n",
      "dtype: int64\n"
     ]
    }
   ],
   "source": [
    "# mapping indices DataFrame\n",
    "indices = pd.Series([i for i in range(len(df))], index=df['video_id'])\n",
    "print(indices.head())"
   ]
  },
  {
   "cell_type": "code",
   "execution_count": 34,
   "metadata": {},
   "outputs": [],
   "source": [
    "# lnear kernel을 이용한 cosine 유사도 계산\n",
    "from sklearn.metrics.pairwise import linear_kernel\n",
    "cosine_sim = linear_kernel(tfidf_matrix, tfidf_matrix)"
   ]
  },
  {
   "cell_type": "code",
   "execution_count": 36,
   "metadata": {},
   "outputs": [],
   "source": [
    "# 추천 시스템 함수\n",
    "def get_recommendations(category_id, cosine_sim=cosine_sim):\n",
    "    idx = indices[category_id]\n",
    "    \n",
    "    sim_scores = list(enumerate(cosine_sim[idx]))\n",
    "    sim_scores = sorted(sim_scores, key=lambda x: x[1], reverse=True)\n",
    "\n",
    "    sim_scores = sim_scores[1:11]\n",
    "\n",
    "    movie_indices = [idx] + [i[0] for i in sim_scores]\n",
    "    return df[['title', 'category_id', 'description']].iloc[movie_indices]"
   ]
  },
  {
   "cell_type": "code",
   "execution_count": 37,
   "metadata": {},
   "outputs": [
    {
     "data": {
      "text/html": [
       "<div>\n",
       "<style scoped>\n",
       "    .dataframe tbody tr th:only-of-type {\n",
       "        vertical-align: middle;\n",
       "    }\n",
       "\n",
       "    .dataframe tbody tr th {\n",
       "        vertical-align: top;\n",
       "    }\n",
       "\n",
       "    .dataframe thead th {\n",
       "        text-align: right;\n",
       "    }\n",
       "</style>\n",
       "<table border=\"1\" class=\"dataframe\">\n",
       "  <thead>\n",
       "    <tr style=\"text-align: right;\">\n",
       "      <th></th>\n",
       "      <th>title</th>\n",
       "      <th>category_id</th>\n",
       "      <th>description</th>\n",
       "    </tr>\n",
       "  </thead>\n",
       "  <tbody>\n",
       "    <tr>\n",
       "      <td>1</td>\n",
       "      <td>JSA 귀순 북한군 총격 부상</td>\n",
       "      <td>25.0</td>\n",
       "      <td>[채널A단독]北 병사 현재 '의식불명'… 혈압 떨어지는 중 \\n[채널A단독]우리측 ...</td>\n",
       "    </tr>\n",
       "    <tr>\n",
       "      <td>1755</td>\n",
       "      <td>김종대ㆍ이국종, 귀순 북 병사 의료기록 공개 두고 '소신 충돌' / 연합뉴스TV (...</td>\n",
       "      <td>25.0</td>\n",
       "      <td>김종대ㆍ이국종, 귀순 북 병사 의료기록 공개 두고 '소신 충돌'</td>\n",
       "    </tr>\n",
       "    <tr>\n",
       "      <td>2102</td>\n",
       "      <td>김어준의 뉴스공장 11월 23일 (목) 전체 풀버전 박지원 조현아 김진애 안민석 김...</td>\n",
       "      <td>25.0</td>\n",
       "      <td>좋아요, 구독, 공유 부탁해요 :) 김어준의 뉴스공장 11월 23일 (목) 전체 풀...</td>\n",
       "    </tr>\n",
       "    <tr>\n",
       "      <td>7060</td>\n",
       "      <td>또 말 바꾼 청와대 UAE가 박근혜 정부에 서운해해서 갔다 화 더 키우는 청와대의 ...</td>\n",
       "      <td>25.0</td>\n",
       "      <td>171221  장병 격려 → 파트너십 강화 → 박근혜 정부에서 서운한 일 임종석 U...</td>\n",
       "    </tr>\n",
       "    <tr>\n",
       "      <td>3632</td>\n",
       "      <td>오청성 '초코파이' 선물..오청성 남은 가족, 몰살? / 귀순 병사 입원한 아주대병...</td>\n",
       "      <td>25.0</td>\n",
       "      <td>귀순 병사 입원한 아주대병원에 '응원 선물' 눈길 \\n꽃바구니와 함께 꼭 살아서 행...</td>\n",
       "    </tr>\n",
       "    <tr>\n",
       "      <td>212</td>\n",
       "      <td>긴박했던 JSA 귀순..목숨 건 귀순, 왜?</td>\n",
       "      <td>25.0</td>\n",
       "      <td>'사선' 넘은 북 병사, 현재 상태 위중 \\n귀순 북한 병사, 개복 상태로 중환자실...</td>\n",
       "    </tr>\n",
       "    <tr>\n",
       "      <td>2392</td>\n",
       "      <td>JSA  - 귀순 책임…北 JSA 병사들 '모두 교체'?</td>\n",
       "      <td>25.0</td>\n",
       "      <td>JSA 귀순 북한 병사가 빠른 회복세로 외상센터 일반 병실로 옮겼다고 하는데 자세한...</td>\n",
       "    </tr>\n",
       "    <tr>\n",
       "      <td>4241</td>\n",
       "      <td>빠르게 호전 중인 줄 알았는데... 귀순병 상태는? / 이국종 초대한 박기량에......</td>\n",
       "      <td>25.0</td>\n",
       "      <td>171204 이국종 B형 간염만 아니면 진작 군 병원 보내 \\n이국종 북한군 병사 ...</td>\n",
       "    </tr>\n",
       "    <tr>\n",
       "      <td>1861</td>\n",
       "      <td>JSA 귀순병사 “TV를 보고 싶다” / 경향 귀순 북한군 난 25세의 오청성 / ...</td>\n",
       "      <td>25.0</td>\n",
       "      <td>경향 귀순 북한군 난 25세의 오청성\\n\\n동아 귀순병 25세 오○○입네다\\n\\n중...</td>\n",
       "    </tr>\n",
       "    <tr>\n",
       "      <td>451</td>\n",
       "      <td>JSA 귀순 북한군…대대장이 직접 나서 구했다</td>\n",
       "      <td>43.0</td>\n",
       "      <td>JSA로 귀순한 북한군… 軍 대응 놓고 논란\\n합참 JSA 북한군 귀순 대응수위 적...</td>\n",
       "    </tr>\n",
       "    <tr>\n",
       "      <td>1832</td>\n",
       "      <td>[고화질] CCTV에 담긴 귀순 병사의 목숨 건 탈출/비디오머그</td>\n",
       "      <td>25.0</td>\n",
       "      <td>유엔군사령부는 오늘 오전, JSA 북한군 귀순병 관련 조사 결과와 더불어 귀순 정황...</td>\n",
       "    </tr>\n",
       "  </tbody>\n",
       "</table>\n",
       "</div>"
      ],
      "text/plain": [
       "                                                  title  category_id  \\\n",
       "1                                      JSA 귀순 북한군 총격 부상         25.0   \n",
       "1755  김종대ㆍ이국종, 귀순 북 병사 의료기록 공개 두고 '소신 충돌' / 연합뉴스TV (...         25.0   \n",
       "2102  김어준의 뉴스공장 11월 23일 (목) 전체 풀버전 박지원 조현아 김진애 안민석 김...         25.0   \n",
       "7060  또 말 바꾼 청와대 UAE가 박근혜 정부에 서운해해서 갔다 화 더 키우는 청와대의 ...         25.0   \n",
       "3632  오청성 '초코파이' 선물..오청성 남은 가족, 몰살? / 귀순 병사 입원한 아주대병...         25.0   \n",
       "212                            긴박했던 JSA 귀순..목숨 건 귀순, 왜?         25.0   \n",
       "2392                    JSA  - 귀순 책임…北 JSA 병사들 '모두 교체'?         25.0   \n",
       "4241  빠르게 호전 중인 줄 알았는데... 귀순병 상태는? / 이국종 초대한 박기량에......         25.0   \n",
       "1861  JSA 귀순병사 “TV를 보고 싶다” / 경향 귀순 북한군 난 25세의 오청성 / ...         25.0   \n",
       "451                           JSA 귀순 북한군…대대장이 직접 나서 구했다         43.0   \n",
       "1832                [고화질] CCTV에 담긴 귀순 병사의 목숨 건 탈출/비디오머그         25.0   \n",
       "\n",
       "                                            description  \n",
       "1     [채널A단독]北 병사 현재 '의식불명'… 혈압 떨어지는 중 \\n[채널A단독]우리측 ...  \n",
       "1755                김종대ㆍ이국종, 귀순 북 병사 의료기록 공개 두고 '소신 충돌'  \n",
       "2102  좋아요, 구독, 공유 부탁해요 :) 김어준의 뉴스공장 11월 23일 (목) 전체 풀...  \n",
       "7060  171221  장병 격려 → 파트너십 강화 → 박근혜 정부에서 서운한 일 임종석 U...  \n",
       "3632  귀순 병사 입원한 아주대병원에 '응원 선물' 눈길 \\n꽃바구니와 함께 꼭 살아서 행...  \n",
       "212   '사선' 넘은 북 병사, 현재 상태 위중 \\n귀순 북한 병사, 개복 상태로 중환자실...  \n",
       "2392  JSA 귀순 북한 병사가 빠른 회복세로 외상센터 일반 병실로 옮겼다고 하는데 자세한...  \n",
       "4241  171204 이국종 B형 간염만 아니면 진작 군 병원 보내 \\n이국종 북한군 병사 ...  \n",
       "1861  경향 귀순 북한군 난 25세의 오청성\\n\\n동아 귀순병 25세 오○○입네다\\n\\n중...  \n",
       "451   JSA로 귀순한 북한군… 軍 대응 놓고 논란\\n합참 JSA 북한군 귀순 대응수위 적...  \n",
       "1832  유엔군사령부는 오늘 오전, JSA 북한군 귀순병 관련 조사 결과와 더불어 귀순 정황...  "
      ]
     },
     "execution_count": 37,
     "metadata": {},
     "output_type": "execute_result"
    }
   ],
   "source": [
    "get_recommendations('hH7wVE8OlQ0')"
   ]
  },
  {
   "cell_type": "code",
   "execution_count": 39,
   "metadata": {},
   "outputs": [],
   "source": [
    "test = df[df.duplicated(['category_id']) == False] # category가 중복이 아닌 sample들을 모아 추천 시스템 함수를 실행"
   ]
  },
  {
   "cell_type": "code",
   "execution_count": 40,
   "metadata": {},
   "outputs": [],
   "source": [
    "writer = pd.ExcelWriter('./output/cosinesim.xlsx', engine='xlsxwriter')\n",
    "count = 1\n",
    "for item in test['video_id']:\n",
    "    data = get_recommendations(item)\n",
    "    data.to_excel(writer, sheet_name = 'Sheet' + str(count)) \n",
    "    count+=1\n",
    "writer.save()\n",
    "        "
   ]
  },
  {
   "cell_type": "code",
   "execution_count": null,
   "metadata": {},
   "outputs": [],
   "source": []
  }
 ],
 "metadata": {
  "kernelspec": {
   "display_name": "Python 3",
   "language": "python",
   "name": "python3"
  },
  "language_info": {
   "codemirror_mode": {
    "name": "ipython",
    "version": 3
   },
   "file_extension": ".py",
   "mimetype": "text/x-python",
   "name": "python",
   "nbconvert_exporter": "python",
   "pygments_lexer": "ipython3",
   "version": "3.7.4"
  }
 },
 "nbformat": 4,
 "nbformat_minor": 4
}
